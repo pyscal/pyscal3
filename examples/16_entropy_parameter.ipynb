{
 "cells": [
  {
   "cell_type": "markdown",
   "metadata": {},
   "source": [
    "# Entropy parameters"
   ]
  },
  {
   "cell_type": "markdown",
   "metadata": {},
   "source": [
    "In this example, the entropy parameters are calculated and used for distinction of solid and liquid. For a description of entropy parameters. "
   ]
  },
  {
   "cell_type": "code",
   "execution_count": 1,
   "metadata": {},
   "outputs": [],
   "source": [
    "from pyscal3 import System\n",
    "import matplotlib.pyplot as plt\n",
    "import numpy as np"
   ]
  },
  {
   "cell_type": "markdown",
   "metadata": {},
   "source": [
    "We have two test configurations for Al at 900 K, one is fcc structured and the other one is in liquid state. We calculate the entropy parameters for each of these configurations. First we start by reading in the fcc configuration. For entropy parameters, the values of the integration limit $r_m$ is chosen as 1.4, based on the [original publication](https://aip.scitation.org/doi/10.1063/1.4998408). "
   ]
  },
  {
   "cell_type": "code",
   "execution_count": 2,
   "metadata": {},
   "outputs": [],
   "source": [
    "sol = System(\"conf.fcc.Al.dump\")\n",
    "sol.find.neighbors(method=\"cutoff\", cutoff=0)"
   ]
  },
  {
   "cell_type": "markdown",
   "metadata": {},
   "source": [
    "The values of $r_m$ is in units of lattice constant, so we need to calculate the lattice constant first. Since is a cubic box, we can do this by,"
   ]
  },
  {
   "cell_type": "code",
   "execution_count": 3,
   "metadata": {},
   "outputs": [],
   "source": [
    "lat = sol.box[0][0]/5"
   ]
  },
  {
   "cell_type": "markdown",
   "metadata": {},
   "source": [
    "Now we calculate the entropy parameter and its averaged version. We will use a simple averaging over the neighbors. The `local` keyword allows to use a local density instead of the global one. However, this only works if the neighbors were calculated using a cutoff method."
   ]
  },
  {
   "cell_type": "code",
   "execution_count": 4,
   "metadata": {
    "scrolled": true
   },
   "outputs": [],
   "source": [
    "sol_entropy = sol.calculate.entropy(1.4*lat, average=True, local=True)"
   ]
  },
  {
   "cell_type": "markdown",
   "metadata": {},
   "source": [
    "Now we can quickly repeat the calculation for the liquid structure."
   ]
  },
  {
   "cell_type": "code",
   "execution_count": 5,
   "metadata": {},
   "outputs": [],
   "source": [
    "lqd = System(\"conf.lqd.Al.dump\")\n",
    "lqd.find.neighbors(method=\"cutoff\", cutoff=0)\n",
    "lat = lqd.box[0][0]/5\n",
    "lqd_entropy = lqd.calculate.entropy(1.4*lat, local=True, average=True)"
   ]
  },
  {
   "cell_type": "markdown",
   "metadata": {},
   "source": [
    "Finally we can plot the results. We can also plot both the non-averaged and averaged versions."
   ]
  },
  {
   "cell_type": "code",
   "execution_count": 10,
   "metadata": {},
   "outputs": [
    {
     "data": {
      "image/png": "[encoded data removed]",
      "text/plain": [
       "<Figure size 640x480 with 1 Axes>"
      ]
     },
     "metadata": {},
     "output_type": "display_data"
    }
   ],
   "source": [
    "xmin = -4.5\n",
    "xmax = -4.1\n",
    "bins = np.arange(xmin, xmax, 0.01)\n",
    "x = plt.hist(sol.atoms.entropy.norm,  bins=bins, density=True, alpha=0.5, color=\"#EF9A9A\", label=r'solid $s_s^i$')\n",
    "x = plt.hist(sol_entropy, bins=bins, density=True, alpha=0.5, color=\"#B71C1C\", label=r'solid $\\bar{s}_s^i$')\n",
    "x = plt.hist(lqd.atoms.entropy.norm,  bins=bins, density=True, alpha=0.5, color=\"#90CAF9\", label=r'liquid $s_s^i$')\n",
    "x = plt.hist(lqd_entropy, bins=bins, density=True, alpha=0.5, color=\"#0D47A1\", label=r'liquid $\\bar{s}_s^i$')\n",
    "plt.xlabel(r\"$s_s^i$\")\n",
    "plt.legend();"
   ]
  },
  {
   "cell_type": "markdown",
   "metadata": {},
   "source": [
    "The distributions of $s_s^i$ given in light red and light blue are fairly distinct but show some overlap. The averaged entropy parameter, $\\bar{s}_s^i$ show distinct peaks which can distinguish solid and liquid very well."
   ]
  }
 ],
 "metadata": {
  "kernelspec": {
   "display_name": "Python 3 (ipykernel)",
   "language": "python",
   "name": "python3"
  },
  "language_info": {
   "codemirror_mode": {
    "name": "ipython",
    "version": 3
   },
   "file_extension": ".py",
   "mimetype": "text/x-python",
   "name": "python",
   "nbconvert_exporter": "python",
   "pygments_lexer": "ipython3",
   "version": "3.12.1"
  }
 },
 "nbformat": 4,
 "nbformat_minor": 4
}
