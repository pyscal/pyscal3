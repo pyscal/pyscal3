{
 "cells": [
  {
   "cell_type": "markdown",
   "metadata": {},
   "source": [
    "# Calculating coordination numbers"
   ]
  },
  {
   "cell_type": "markdown",
   "metadata": {},
   "source": [
    "In this example, we will read in a configuration from an MD simulation and then calculate the coordination number distribution. "
   ]
  },
  {
   "cell_type": "markdown",
   "metadata": {},
   "source": [
    "<div class=\"admonition note\" name=\"html-admonition\" style=\"background: #d1c4e9; padding: 10px\">\n",
    "<p class=\"title\"><b>Methods</b></p>\n",
    "For a detailed description of methods see [Methods section](method)\n",
    "</div>"
   ]
  },
  {
   "cell_type": "code",
   "execution_count": 1,
   "metadata": {
    "tags": []
   },
   "outputs": [],
   "source": [
    "from pyscal3 import System \n",
    "import numpy as np\n",
    "import matplotlib.pyplot as plt"
   ]
  },
  {
   "cell_type": "markdown",
   "metadata": {},
   "source": [
    "### Read in a file"
   ]
  },
  {
   "cell_type": "markdown",
   "metadata": {},
   "source": [
    "Lets create a bcc structure"
   ]
  },
  {
   "cell_type": "code",
   "execution_count": 2,
   "metadata": {
    "tags": []
   },
   "outputs": [],
   "source": [
    "sys = System.create.lattice.bcc(lattice_constant= 4.00, repetitions=[6,6,6])"
   ]
  },
  {
   "cell_type": "markdown",
   "metadata": {},
   "source": [
    "The above function creates an bcc crystal of 6x6x6 unit cells with a lattice constant of 4.00 along with a simulation box that encloses the particles."
   ]
  },
  {
   "cell_type": "markdown",
   "metadata": {},
   "source": [
    "### Calculating neighbors"
   ]
  },
  {
   "cell_type": "markdown",
   "metadata": {},
   "source": [
    "We start by calculating the neighbors of each atom in the system. There are two (main) ways to do this, using a ``cutoff`` method and using a ``voronoi`` polyhedra method. We will try with both of them. First we try with cutoff system - which has three sub options. We will check each of them in detail."
   ]
  },
  {
   "cell_type": "markdown",
   "metadata": {},
   "source": [
    "#### Cutoff method"
   ]
  },
  {
   "cell_type": "markdown",
   "metadata": {},
   "source": [
    "Cutoff method takes cutoff distance value and finds all atoms within the cutoff distance of the host atom."
   ]
  },
  {
   "cell_type": "code",
   "execution_count": 4,
   "metadata": {
    "tags": []
   },
   "outputs": [],
   "source": [
    "sys.find.neighbors(method='cutoff', cutoff=4.1)"
   ]
  },
  {
   "cell_type": "markdown",
   "metadata": {},
   "source": [
    "let us try accessing the coordination number of an atom"
   ]
  },
  {
   "cell_type": "code",
   "execution_count": 5,
   "metadata": {
    "tags": []
   },
   "outputs": [],
   "source": [
    "coordination = [len(sys.atoms.neighbors.index[x]) for x in range(sys.natoms)]"
   ]
  },
  {
   "cell_type": "code",
   "execution_count": 6,
   "metadata": {
    "tags": []
   },
   "outputs": [
    {
     "data": {
      "text/plain": [
       "14"
      ]
     },
     "execution_count": 6,
     "metadata": {},
     "output_type": "execute_result"
    }
   ],
   "source": [
    "coordination[0]"
   ]
  },
  {
   "cell_type": "markdown",
   "metadata": {},
   "source": [
    "As we would expect for a bcc type lattice, we see that the atom has 14 neighbors (8 in the first shell and 6 in the second). Lets try a more interesting example by reading in a bcc system with thermal vibrations. Thermal vibrations lead to distortion in atomic positions, and hence there will be a distribution of coordination numbers."
   ]
  },
  {
   "cell_type": "code",
   "execution_count": 8,
   "metadata": {
    "tags": []
   },
   "outputs": [
    {
     "name": "stderr",
     "output_type": "stream",
     "text": [
      "/home/menon/miniconda3/envs/pyscal-test/lib/python3.10/site-packages/pyscal3/atoms.py:45: VisibleDeprecationWarning: Creating an ndarray from ragged nested sequences (which is a list-or-tuple of lists-or-tuples-or ndarrays with different lengths or shapes) is deprecated. If you meant to do this, you must specify 'dtype=object' when creating the ndarray.\n",
      "  dict.__setitem__(self, key, np.array(val))\n"
     ]
    }
   ],
   "source": [
    "sys = System('conf.dump')\n",
    "sys.find.neighbors(method='cutoff', cutoff=3.6)"
   ]
  },
  {
   "cell_type": "markdown",
   "metadata": {},
   "source": [
    "We can loop over all atoms and create a histogram of the results "
   ]
  },
  {
   "cell_type": "code",
   "execution_count": 9,
   "metadata": {
    "tags": []
   },
   "outputs": [],
   "source": [
    "coordination = [len(sys.atoms.neighbors.index[x]) for x in range(sys.natoms)]"
   ]
  },
  {
   "cell_type": "markdown",
   "metadata": {},
   "source": [
    "Now lets plot and see the results"
   ]
  },
  {
   "cell_type": "code",
   "execution_count": 11,
   "metadata": {
    "tags": []
   },
   "outputs": [
    {
     "data": {
      "text/plain": [
       "Text(0.5, 1.0, 'Cutoff method')"
      ]
     },
     "execution_count": 11,
     "metadata": {},
     "output_type": "execute_result"
    },
    {
     "data": {
      "image/png": "[encoded data removed]",
      "text/plain": [
       "<Figure size 432x288 with 1 Axes>"
      ]
     },
     "metadata": {
      "needs_background": "light"
     },
     "output_type": "display_data"
    }
   ],
   "source": [
    "nos, counts = np.unique(coordination, return_counts=True)\n",
    "plt.bar(nos, counts, color=\"#AD1457\")\n",
    "plt.ylabel(\"density\")\n",
    "plt.xlabel(\"coordination number\")\n",
    "plt.title(\"Cutoff method\")"
   ]
  },
  {
   "cell_type": "markdown",
   "metadata": {},
   "source": [
    "### Adaptive cutoff methods"
   ]
  },
  {
   "cell_type": "markdown",
   "metadata": {},
   "source": [
    "``pyscal`` also has adaptive cutoff methods implemented. These methods remove the restriction on having the same cutoff. A distinct cutoff is selected for each atom during runtime. ``pyscal`` uses two distinct algorithms to do this - ``sann`` and ``adaptive``. Please check the [documentation](https://pyscal.readthedocs.io/en/latest/nearestneighbormethods.html) for a explanation of these algorithms.  For the purpose of this example, we will use the `adaptive` algorithm."
   ]
  },
  {
   "cell_type": "markdown",
   "metadata": {},
   "source": [
    "``adaptive algorithm``"
   ]
  },
  {
   "cell_type": "code",
   "execution_count": 12,
   "metadata": {
    "tags": []
   },
   "outputs": [],
   "source": [
    "sys.find.neighbors(method='cutoff', cutoff='adaptive', padding=1.5)\n",
    "coordination = [len(sys.atoms.neighbors.index[x]) for x in range(sys.natoms)]"
   ]
  },
  {
   "cell_type": "markdown",
   "metadata": {},
   "source": [
    "Now lets plot"
   ]
  },
  {
   "cell_type": "code",
   "execution_count": 13,
   "metadata": {
    "tags": []
   },
   "outputs": [
    {
     "data": {
      "text/plain": [
       "Text(0.5, 1.0, 'Cutoff adaptive method')"
      ]
     },
     "execution_count": 13,
     "metadata": {},
     "output_type": "execute_result"
    },
    {
     "data": {
      "image/png": "[encoded data removed]",
      "text/plain": [
       "<Figure size 432x288 with 1 Axes>"
      ]
     },
     "metadata": {
      "needs_background": "light"
     },
     "output_type": "display_data"
    }
   ],
   "source": [
    "nos, counts = np.unique(coordination, return_counts=True)\n",
    "plt.bar(nos, counts, color=\"#AD1457\")\n",
    "plt.ylabel(\"density\")\n",
    "plt.xlabel(\"coordination number\")\n",
    "plt.title(\"Cutoff adaptive method\")"
   ]
  },
  {
   "cell_type": "markdown",
   "metadata": {},
   "source": [
    "The adaptive method also gives similar results!"
   ]
  },
  {
   "cell_type": "markdown",
   "metadata": {},
   "source": [
    "### Voronoi method"
   ]
  },
  {
   "cell_type": "markdown",
   "metadata": {},
   "source": [
    "Voronoi method calculates the voronoi polyhedra of all atoms. Any atom that shares a voronoi face area with the host atom are considered neighbors. Voronoi polyhedra is calculated using the [Voro++](http://math.lbl.gov/voro++/) code. However, you dont need to install this specifically as it is linked to pyscal."
   ]
  },
  {
   "cell_type": "code",
   "execution_count": 14,
   "metadata": {
    "tags": []
   },
   "outputs": [],
   "source": [
    "sys.find.neighbors(method='voronoi')"
   ]
  },
  {
   "cell_type": "markdown",
   "metadata": {},
   "source": [
    "Once again, let us get all atoms and find their coordination"
   ]
  },
  {
   "cell_type": "code",
   "execution_count": 15,
   "metadata": {
    "tags": []
   },
   "outputs": [],
   "source": [
    "coordination = [len(sys.atoms.neighbors.index[x]) for x in range(sys.natoms)]"
   ]
  },
  {
   "cell_type": "markdown",
   "metadata": {},
   "source": [
    "And visualise the results"
   ]
  },
  {
   "cell_type": "code",
   "execution_count": 16,
   "metadata": {
    "tags": []
   },
   "outputs": [
    {
     "data": {
      "text/plain": [
       "Text(0.5, 1.0, 'Voronoi method')"
      ]
     },
     "execution_count": 16,
     "metadata": {},
     "output_type": "execute_result"
    },
    {
     "data": {
      "image/png": "[encoded data removed]",
      "text/plain": [
       "<Figure size 432x288 with 1 Axes>"
      ]
     },
     "metadata": {
      "needs_background": "light"
     },
     "output_type": "display_data"
    }
   ],
   "source": [
    "nos, counts = np.unique(coordination, return_counts=True)\n",
    "plt.bar(nos, counts, color=\"#AD1457\")\n",
    "plt.ylabel(\"density\")\n",
    "plt.xlabel(\"coordination number\")\n",
    "plt.title(\"Voronoi method\")"
   ]
  },
  {
   "cell_type": "markdown",
   "metadata": {},
   "source": [
    "### Finally.."
   ]
  },
  {
   "cell_type": "markdown",
   "metadata": {},
   "source": [
    "All methods find the coordination number, and the results are comparable. Cutoff method is very sensitive to the choice of cutoff radius, but voronoi method can slightly overestimate the neighbors due to thermal vibrations. "
   ]
  },
  {
   "cell_type": "markdown",
   "metadata": {},
   "source": [
    "<div class=\"admonition note\" name=\"html-admonition\" style=\"background: #d1c4e9; padding: 10px\">\n",
    "<p class=\"title\"><b>About small simulation boxes</b></p>\n",
    "pyscal repeats the simulation box to create ghost atoms if the input cell is too small. This means that when the neighbors of an atom are extracted, some indices might be repeated.\n",
    "</div>"
   ]
  },
  {
   "cell_type": "markdown",
   "metadata": {},
   "source": [
    "<hr width=\"100%\" size=\"10\" color=\"#9575cd\" noshade>"
   ]
  },
  {
   "cell_type": "markdown",
   "metadata": {},
   "source": [
    "(method)=\n",
    "## Methods\n",
    "\n",
    "pyscal3 includes different methods to explore the local environment of a particle that rely on the calculation of nearest neighbors. Various approaches to compute the neighbors of particles are discussed here.\n",
    "\n",
    "### Fixed cutoff method\n",
    "\n",
    "The most common method to calculate the nearest neighbors of an atom is using a cutoff radius. Commonly, a cutoff is selected as the first minimum of the radial distribution functions. Once a cutoff is selected, the neighbors of an atom are those that fall within this selected radius. The following code snippet will use the cutoff method to calculate neighbors. In this example, `conf.dump` is assumed to\n",
    "be the input configuration of the system. A cutoff radius of 3 is assumed for calculation of neighbors.\n",
    "\n",
    "``` python\n",
    "from pyscal3 import System\n",
    "sys = pc.System()\n",
    "sys.read.file('conf.dump')\n",
    "sys.find.neighbors(method='cutoff', cutoff=3)\n",
    "```\n",
    "\n",
    "## Adaptive cutoff methods\n",
    "\n",
    "A fixed cutoff radius can introduce limitations to explore the local environment of the particle in some cases:\n",
    "\n",
    "-   At finite temperatures, when thermal fluctuations take place, the selection of a fixed cutoff may result in an inaccurate description of the local environment.\n",
    "-   If there is more than one structure present in the system, for example, bcc and fcc, the selection of cutoff such that it includes the first shell of both structures can be difficult.\n",
    "\n",
    "In order to achieve a more accurate description of the local environment, various adaptive approaches have been proposed. Two of the methods implemented in the module are discussed below.\n",
    "\n",
    "### Solid angle based nearest neighbor algorithm (SANN)\n",
    "\n",
    "SANN algorithm [1] determines the cutoff radius by counting the solid angles around an atom and equating it to $4\\pi$. The algorithm solves the following equation iteratively.\n",
    "\n",
    "$$\n",
    "R_i^{(m)} = \\frac{\\sum_{j=1}^m r_{i,j}}{m-2} < r_{i, m+1}\n",
    "$$\n",
    "\n",
    "where $i$ is the host atom, $j$ are its neighbors with $r_{ij}$ is the distance between atoms $i$ and $j$. $R_i$ is the cutoff radius for each particle $i$ which is found by increasing the neighbor of neighbors $m$ iteratively. For a description of the algorithm and more details, please check the reference [1]. SANN algorithm can be used to find the neighbors by,\n",
    "\n",
    "``` python\n",
    "from pyscal3 import System\n",
    "sys = pc.System()\n",
    "sys.read.file('conf.dump')\n",
    "sys.find.neighbors(method='cutoff', cutoff='sann')\n",
    "```\n",
    "\n",
    "Since SANN algorithm involves sorting, a sufficiently large cutoff is used in the beginning to reduce the number entries to be sorted. This parameter is calculated by,\n",
    "\n",
    "$$\n",
    "r_{initial} = \\mathrm{threshold} \\times \\bigg(\\frac{\\mathrm{Simulation~box~volume}}{\\mathrm{Number~of~particles}}\\bigg)^{\\frac{1}{3}}\n",
    "$$\n",
    "\n",
    "a tunable `threshold` parameter can be set through function arguments.\n",
    "\n",
    "### Adaptive cutoff method\n",
    "\n",
    "An adaptive cutoff specific for each atom can also be found using an algorithm similar to adaptive common neighbor analysis [2]. This adaptive cutoff is calculated by first making a list of all neighbor\n",
    "distances for each atom similar to SANN method. Once this list is available, then the cutoff is calculated from,\n",
    "\n",
    "$$\n",
    "r_{cut}(i) = \\mathrm{padding}\\times \\bigg(\\frac{1}{\\mathrm{nlimit}} \\sum_{j=1}^{\\mathrm{nlimit}} r_{ij} \\bigg)\n",
    "$$\n",
    "\n",
    "This method can be chosen by,\n",
    "\n",
    "``` python\n",
    "from pyscal3 import System\n",
    "sys = pc.System()\n",
    "sys.read.file('conf.dump')\n",
    "sys.find.neighbors(method='cutoff', cutoff='adaptive')\n",
    "```\n",
    "\n",
    "The `padding` and `nlimit` parameters in the above equation can be tuned using the respective keywords.\n",
    "\n",
    "Either of the adaptive method can be used to find neighbors, which can then be used to calculate Steinhardt\\'s parameters or their averaged version.\n",
    "\n",
    "### Voronoi tessellation\n",
    "\n",
    "[Voronoi tessellation](https://en.wikipedia.org/wiki/Voronoi_diagram) provides a completely parameter free geometric approach for calculation of neighbors. [Voro++](http://math.lbl.gov/voro++/) code is used for Voronoi tessellation. Neighbors can be calculated using this method by,\n",
    "\n",
    "``` python\n",
    "from pyscal3 import System\n",
    "sys = pc.System()\n",
    "sys.read.file('conf.dump')\n",
    "sys.find.neighbors(method='voronoi')\n",
    "```\n",
    "\n",
    "Finding neighbors using Voronoi tessellation also calculates a weight for each neighbor. The weight of a neighbor $j$ towards a host atom $i$ is given by,\n",
    "\n",
    "$$\n",
    "W_{ij} = \\frac{A_{ij}}{\\sum_{j=1}^N A_{ij}}\n",
    "$$\n",
    "\n",
    "where $A_{ij}$ is the area of Voronoi facet between atom $i$ and $j$, $N$ are all the neighbors identified through Voronoi tessellation. This weight can be used later for calculation of weighted Steinhardt's\n",
    "parameters. Optionally, it is possible to choose the exponent for this weight. Option `voroexp` is used to set this option. For example if `voroexp=2`, the weight would be calculated as,\n",
    "\n",
    "$$\n",
    "W_{ij} = \\frac{A_{ij}^2}{\\sum_{j=1}^N A_{ij}^2}\n",
    "$$\n",
    "\n",
    "### References\n",
    "\n",
    "1. van Meel, J. A., Filion, L., Valeriani, C. & Frenkel, D. A parameter-free, solid-angle based, nearest- neighbor algorithm. J Chem Phys 234107, (2012).\n",
    "2. Stukowski, A. Structure identification methods for atomistic simulations of crystalline materials. Modelling and Simulation in Materials Science and Engineering 20, (2012)."
   ]
  }
 ],
 "metadata": {
  "kernelspec": {
   "display_name": "Python 3 (ipykernel)",
   "language": "python",
   "name": "python3"
  },
  "language_info": {
   "codemirror_mode": {
    "name": "ipython",
    "version": 3
   },
   "file_extension": ".py",
   "mimetype": "text/x-python",
   "name": "python",
   "nbconvert_exporter": "python",
   "pygments_lexer": "ipython3",
   "version": "3.12.1"
  }
 },
 "nbformat": 4,
 "nbformat_minor": 4
}
