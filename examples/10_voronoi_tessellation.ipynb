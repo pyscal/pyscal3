{
 "cells": [
  {
   "cell_type": "markdown",
   "metadata": {},
   "source": [
    "# Voronoi parameters\n",
    "\n",
    "[Voronoi tessellation](http://pyscal.com/en/latest/methods/voronoiparameters/voronoiparameters.html) can be used to identify local structure by counting the number of faces of the Voronoi polyhedra of an atom. For each atom a vector $\\langle n3~n4~n5~n6$ can be calculated where $n_3$ is the number of Voronoi faces of the associated Voronoi polyhedron with three vertices, $n_4$ is with four vertices and so on. Each perfect crystal structure such as a signature vector, for example, bcc can be identified by $\\langle 0~6~0~8 \\rangle$ and fcc can be identified using $\\langle 0~12~0~0 \\rangle$. It is also a useful tool for identifying icosahedral structure which has the fingerprint $\\langle 0~0~12~0 \\rangle$. "
   ]
  },
  {
   "cell_type": "code",
   "execution_count": 1,
   "metadata": {
    "tags": []
   },
   "outputs": [],
   "source": [
    "from pyscal3 import System\n",
    "import matplotlib.pyplot as plt\n",
    "import numpy as np"
   ]
  },
  {
   "cell_type": "markdown",
   "metadata": {},
   "source": [
    "For this example, fcc, bcc, hcp and diamond structures are created."
   ]
  },
  {
   "cell_type": "code",
   "execution_count": 2,
   "metadata": {
    "tags": []
   },
   "outputs": [],
   "source": [
    "bcc = System.create.lattice.bcc(lattice_constant=4, repetitions=[4,4,4])\n",
    "fcc = System.create.lattice.fcc(lattice_constant=4, repetitions=[4,4,4])\n",
    "hcp = System.create.lattice.hcp(lattice_constant=4, repetitions=[4,4,4])"
   ]
  },
  {
   "cell_type": "markdown",
   "metadata": {},
   "source": [
    "Before calculating the Voronoi polyhedron, the [neighbors for each atom](http://pyscal.com/en/latest/methods/nearestneighbormethods/nearestneighbormethods.html) need to be found using Voronoi method."
   ]
  },
  {
   "cell_type": "code",
   "execution_count": 3,
   "metadata": {
    "tags": []
   },
   "outputs": [],
   "source": [
    "bcc.find.neighbors(method='voronoi')\n",
    "fcc.find.neighbors(method='voronoi')\n",
    "hcp.find.neighbors(method='voronoi')"
   ]
  },
  {
   "cell_type": "markdown",
   "metadata": {},
   "source": [
    "Now, Voronoi vector can be calculated"
   ]
  },
  {
   "cell_type": "code",
   "execution_count": 4,
   "metadata": {
    "tags": []
   },
   "outputs": [
    {
     "name": "stderr",
     "output_type": "stream",
     "text": [
      "/home/menon/miniconda3/envs/pyscal-test/lib/python3.10/site-packages/pyscal3/operations/voronoi.py:93: VisibleDeprecationWarning: Creating an ndarray from ragged nested sequences (which is a list-or-tuple of lists-or-tuples-or ndarrays with different lengths or shapes) is deprecated. If you meant to do this, you must specify 'dtype=object' when creating the ndarray.\n",
      "  system.atoms[\"edge_lengths\"] = np.array(complete_edge_lengths)\n"
     ]
    }
   ],
   "source": [
    "fcc.calculate.voronoi_vector()\n",
    "bcc.calculate.voronoi_vector()\n",
    "hcp.calculate.voronoi_vector()"
   ]
  },
  {
   "cell_type": "markdown",
   "metadata": {},
   "source": [
    "We can access the values"
   ]
  },
  {
   "cell_type": "code",
   "execution_count": 5,
   "metadata": {
    "tags": []
   },
   "outputs": [
    {
     "data": {
      "text/plain": [
       "array([[ 0, 12,  0,  0],\n",
       "       [ 0, 12,  0,  0],\n",
       "       [ 0, 12,  0,  0],\n",
       "       ...,\n",
       "       [ 0, 12,  0,  0],\n",
       "       [ 0, 12,  0,  0],\n",
       "       [ 0, 12,  0,  0]])"
      ]
     },
     "execution_count": 5,
     "metadata": {},
     "output_type": "execute_result"
    }
   ],
   "source": [
    "fcc.atoms.voronoi.vector"
   ]
  },
  {
   "cell_type": "markdown",
   "metadata": {},
   "source": [
    "As expected, fcc structure exhibits 12 faces with four vertices each. For a single atom, the difference in the Voronoi fingerprint is shown below"
   ]
  },
  {
   "cell_type": "code",
   "execution_count": 6,
   "metadata": {
    "tags": []
   },
   "outputs": [
    {
     "data": {
      "text/plain": [
       "<matplotlib.legend.Legend at 0x7ff9a1816080>"
      ]
     },
     "execution_count": 6,
     "metadata": {},
     "output_type": "execute_result"
    },
    {
     "data": {
      "image/png": "[encoded data removed]",
      "text/plain": [
       "<Figure size 432x288 with 1 Axes>"
      ]
     },
     "metadata": {
      "needs_background": "light"
     },
     "output_type": "display_data"
    }
   ],
   "source": [
    "fig, ax = plt.subplots()\n",
    "ax.bar(np.array(range(4))-0.2, fcc.atoms.voronoi.vector[10], width=0.2, label=\"fcc\")\n",
    "ax.bar(np.array(range(4)), bcc.atoms.voronoi.vector[10], width=0.2, label=\"bcc\")\n",
    "ax.bar(np.array(range(4))+0.2, hcp.atoms.voronoi.vector[10], width=0.2, label=\"hcp\")\n",
    "ax.set_xticks([1,2,3,4])\n",
    "ax.set_xlim(0.5, 4.25)\n",
    "ax.set_xticklabels(['$n_3$', '$n_4$', '$n_5$', '$n_6$'])\n",
    "ax.set_ylabel(\"Number of faces\")\n",
    "ax.legend()"
   ]
  },
  {
   "cell_type": "markdown",
   "metadata": {},
   "source": [
    "The difference in Voronoi fingerprint for bcc and the closed packed structures is clearly visible. Voronoi tessellation, however, is incapable of distinction between fcc and hcp structures."
   ]
  },
  {
   "cell_type": "markdown",
   "metadata": {},
   "source": [
    "## Voronoi volume\n",
    "\n",
    "Voronoi volume, which is the volume of the Voronoi polyhedron is calculated when the neighbors are found. The volume can also be accessed."
   ]
  },
  {
   "cell_type": "code",
   "execution_count": 7,
   "metadata": {
    "tags": []
   },
   "outputs": [
    {
     "data": {
      "text/plain": [
       "16.0"
      ]
     },
     "execution_count": 7,
     "metadata": {},
     "output_type": "execute_result"
    }
   ],
   "source": [
    "np.mean(fcc.atoms.voronoi.volume)"
   ]
  }
 ],
 "metadata": {
  "kernelspec": {
   "display_name": "Python 3 (ipykernel)",
   "language": "python",
   "name": "python3"
  },
  "language_info": {
   "codemirror_mode": {
    "name": "ipython",
    "version": 3
   },
   "file_extension": ".py",
   "mimetype": "text/x-python",
   "name": "python",
   "nbconvert_exporter": "python",
   "pygments_lexer": "ipython3",
   "version": "3.12.1"
  }
 },
 "nbformat": 4,
 "nbformat_minor": 4
}
