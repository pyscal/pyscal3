{
 "cells": [
  {
   "cell_type": "markdown",
   "metadata": {},
   "source": [
    "# Calculating bond orientational order parameters"
   ]
  },
  {
   "cell_type": "markdown",
   "metadata": {},
   "source": [
    "This example illustrates the calculation of bond orientational order parameters. Bond order parameters, $q_l$ and their averaged versions, $\\bar{q}_l$ are widely used to  identify atoms belong to different crystal structures. In this example, we will consider bcc, fcc, and hcp, and calculate the $q_4$ and $q_6$ parameters and their averaged versions which are widely used in literature. More details can be found [here](https://pyscal.readthedocs.io/en/latest/steinhardtparameters.html). "
   ]
  },
  {
   "cell_type": "code",
   "execution_count": 1,
   "metadata": {
    "tags": []
   },
   "outputs": [],
   "source": [
    "import numpy as np\n",
    "import matplotlib.pyplot as plt\n",
    "from pyscal3 import System"
   ]
  },
  {
   "cell_type": "markdown",
   "metadata": {},
   "source": [
    "In this example, we analyse MD configurations, first a set of perfect bcc, fcc and hcp structures and another set with thermal vibrations."
   ]
  },
  {
   "cell_type": "markdown",
   "metadata": {},
   "source": [
    "### Perfect structures"
   ]
  },
  {
   "cell_type": "markdown",
   "metadata": {},
   "source": [
    "We start by creating some reference structures"
   ]
  },
  {
   "cell_type": "code",
   "execution_count": 2,
   "metadata": {
    "tags": []
   },
   "outputs": [],
   "source": [
    "bcc = System.create.lattice.bcc(lattice_constant=3.147, repetitions=[4,4,4])\n",
    "fcc = System.create.lattice.fcc(lattice_constant=3.147, repetitions=[4,4,4])\n",
    "hcp = System.create.lattice.hcp(lattice_constant=3.147, repetitions=[4,4,4])"
   ]
  },
  {
   "cell_type": "markdown",
   "metadata": {},
   "source": [
    "Next step is calculation of nearest neighbors. There are two ways to calculate neighbors, by using a cutoff distance or by using the voronoi cells. In this example, we will use the cutoff method and provide a cutoff distance for each structure."
   ]
  },
  {
   "cell_type": "markdown",
   "metadata": {},
   "source": [
    "#### Finding the cutoff distance"
   ]
  },
  {
   "cell_type": "markdown",
   "metadata": {},
   "source": [
    "The cutoff distance is normally calculated in a such a way that the atoms within the first shell is incorporated in this distance. The :func:`pyscal.core.System.calculate_rdf` function can be used to find this cutoff distance."
   ]
  },
  {
   "cell_type": "code",
   "execution_count": 3,
   "metadata": {
    "tags": []
   },
   "outputs": [
    {
     "name": "stderr",
     "output_type": "stream",
     "text": [
      "/home/menon/miniconda3/envs/pyscal-test/lib/python3.10/site-packages/pyscal3/atoms.py:45: VisibleDeprecationWarning: Creating an ndarray from ragged nested sequences (which is a list-or-tuple of lists-or-tuples-or ndarrays with different lengths or shapes) is deprecated. If you meant to do this, you must specify 'dtype=object' when creating the ndarray.\n",
      "  dict.__setitem__(self, key, np.array(val))\n"
     ]
    }
   ],
   "source": [
    "bccrdf = bcc.calculate.radial_distribution_function()\n",
    "fccrdf = fcc.calculate.radial_distribution_function()\n",
    "hcprdf = hcp.calculate.radial_distribution_function()"
   ]
  },
  {
   "cell_type": "markdown",
   "metadata": {},
   "source": [
    "Now the calculated rdf is plotted"
   ]
  },
  {
   "cell_type": "code",
   "execution_count": 4,
   "metadata": {
    "tags": []
   },
   "outputs": [
    {
     "data": {
      "text/plain": [
       "<matplotlib.lines.Line2D at 0x7f3a6baf12a0>"
      ]
     },
     "execution_count": 4,
     "metadata": {},
     "output_type": "execute_result"
    },
    {
     "data": {
      "image/png": "[encoded data removed]",
      "text/plain": [
       "<Figure size 792x288 with 3 Axes>"
      ]
     },
     "metadata": {
      "needs_background": "light"
     },
     "output_type": "display_data"
    }
   ],
   "source": [
    "fig, (ax1, ax2, ax3) = plt.subplots(1, 3, figsize=(11,4))\n",
    "ax1.plot(bccrdf[1], bccrdf[0])\n",
    "ax2.plot(fccrdf[1], fccrdf[0])\n",
    "ax3.plot(hcprdf[1], hcprdf[0])\n",
    "ax1.set_xlim(0,5)\n",
    "ax2.set_xlim(0,5)\n",
    "ax3.set_xlim(0,5)\n",
    "ax1.set_title('bcc')\n",
    "ax2.set_title('fcc')\n",
    "ax3.set_title('hcp')\n",
    "ax2.set_xlabel(\"distance\")\n",
    "ax1.axvline(3.6, color='red')\n",
    "ax2.axvline(2.7, color='red')\n",
    "ax3.axvline(3.6, color='red')"
   ]
  },
  {
   "cell_type": "markdown",
   "metadata": {},
   "source": [
    "The selected cutoff distances are marked in red in the above plot. For bcc, since the first two shells are close to each other, for this example, we will take the cutoff in such a way that both shells are included."
   ]
  },
  {
   "cell_type": "markdown",
   "metadata": {},
   "source": [
    "#### Steinhardt's parameters - cutoff neighbor method"
   ]
  },
  {
   "cell_type": "code",
   "execution_count": 5,
   "metadata": {
    "tags": []
   },
   "outputs": [],
   "source": [
    "bcc.find.neighbors(method='cutoff', cutoff=3.6)\n",
    "fcc.find.neighbors(method='cutoff', cutoff=2.7)\n",
    "hcp.find.neighbors(method='cutoff', cutoff=3.6)"
   ]
  },
  {
   "cell_type": "markdown",
   "metadata": {},
   "source": [
    "We have used a cutoff of 3 here, but this is a parameter that has to be tuned. Using a different cutoff for each structure is possible, but it would complicate the method if the system has a mix of structures. Now we can calculate the $q_4$ and $q_6$ distributions "
   ]
  },
  {
   "cell_type": "code",
   "execution_count": 6,
   "metadata": {
    "tags": []
   },
   "outputs": [],
   "source": [
    "bccq = bcc.calculate.steinhardt_parameter([4,6])\n",
    "fccq = fcc.calculate.steinhardt_parameter([4,6])\n",
    "hcpq = hcp.calculate.steinhardt_parameter([4,6])"
   ]
  },
  {
   "cell_type": "markdown",
   "metadata": {},
   "source": [
    "Instead of using the returned values, one can also access them later easily with tab completion"
   ]
  },
  {
   "cell_type": "code",
   "execution_count": null,
   "metadata": {},
   "outputs": [],
   "source": [
    "bcc.atoms.steinhardt.generic.q4_norm"
   ]
  },
  {
   "cell_type": "markdown",
   "metadata": {},
   "source": [
    "Thats it! Now lets gather the results and plot them."
   ]
  },
  {
   "cell_type": "code",
   "execution_count": 7,
   "metadata": {
    "tags": []
   },
   "outputs": [
    {
     "data": {
      "text/plain": [
       "<matplotlib.legend.Legend at 0x7f3a63abc940>"
      ]
     },
     "execution_count": 7,
     "metadata": {},
     "output_type": "execute_result"
    },
    {
     "data": {
      "image/png": "[encoded data removed]",
      "text/plain": [
       "<Figure size 432x288 with 1 Axes>"
      ]
     },
     "metadata": {
      "needs_background": "light"
     },
     "output_type": "display_data"
    }
   ],
   "source": [
    "plt.scatter(bccq[0], bccq[1], s=60, label='bcc', color='#C62828')\n",
    "plt.scatter(fccq[0], fccq[1], s=60, label='fcc', color='#FFB300')\n",
    "plt.scatter(hcpq[0], hcpq[1], s=60, label='hcp', color='#388E3C')\n",
    "plt.xlabel(\"$q_4$\", fontsize=20)\n",
    "plt.ylabel(\"$q_6$\", fontsize=20)\n",
    "plt.legend(loc=4, fontsize=15)"
   ]
  },
  {
   "cell_type": "markdown",
   "metadata": {},
   "source": [
    "Firstly, we can see that Steinhardt parameter values of all the atoms fall on one specific point which is due to the absence of thermal vibrations. Next, all the points are well separated and show good distinction. However, at finite temperatures, the atomic positions are affected by thermal vibrations and hence show a spread in the distribution. We will show the effect of thermal vibrations in the next example. "
   ]
  },
  {
   "cell_type": "markdown",
   "metadata": {},
   "source": [
    "### Structures with thermal vibrations"
   ]
  },
  {
   "cell_type": "markdown",
   "metadata": {},
   "source": [
    "Once again, we create the reqd structures Noise can be applied to atomic positions using the `noise` keyword as shown below."
   ]
  },
  {
   "cell_type": "code",
   "execution_count": 8,
   "metadata": {
    "tags": []
   },
   "outputs": [],
   "source": [
    "bcc = System.create.lattice.bcc(lattice_constant=3.147, repetitions=[4,4,4], noise=0.05)\n",
    "fcc = System.create.lattice.fcc(lattice_constant=3.147, repetitions=[4,4,4], noise=0.05)\n",
    "hcp = System.create.lattice.hcp(lattice_constant=3.147, repetitions=[4,4,4], noise=0.05)"
   ]
  },
  {
   "cell_type": "markdown",
   "metadata": {},
   "source": [
    "#### cutoff method"
   ]
  },
  {
   "cell_type": "code",
   "execution_count": 9,
   "metadata": {
    "tags": []
   },
   "outputs": [
    {
     "name": "stderr",
     "output_type": "stream",
     "text": [
      "/home/menon/miniconda3/envs/pyscal-test/lib/python3.10/site-packages/pyscal3/atoms.py:45: VisibleDeprecationWarning: Creating an ndarray from ragged nested sequences (which is a list-or-tuple of lists-or-tuples-or ndarrays with different lengths or shapes) is deprecated. If you meant to do this, you must specify 'dtype=object' when creating the ndarray.\n",
      "  dict.__setitem__(self, key, np.array(val))\n"
     ]
    }
   ],
   "source": [
    "bcc.find.neighbors(method='cutoff', cutoff=3.6)\n",
    "fcc.find.neighbors(method='cutoff', cutoff=2.7)\n",
    "hcp.find.neighbors(method='cutoff', cutoff=3.6)"
   ]
  },
  {
   "cell_type": "markdown",
   "metadata": {},
   "source": [
    "And now, calculate $q_4$, $q_6$ parameters"
   ]
  },
  {
   "cell_type": "code",
   "execution_count": 10,
   "metadata": {
    "tags": []
   },
   "outputs": [],
   "source": [
    "bccq = bcc.calculate.steinhardt_parameter([4,6])\n",
    "fccq = fcc.calculate.steinhardt_parameter([4,6])\n",
    "hcpq = hcp.calculate.steinhardt_parameter([4,6])"
   ]
  },
  {
   "cell_type": "code",
   "execution_count": 11,
   "metadata": {
    "tags": []
   },
   "outputs": [
    {
     "data": {
      "text/plain": [
       "<matplotlib.legend.Legend at 0x7f3a6cc252a0>"
      ]
     },
     "execution_count": 11,
     "metadata": {},
     "output_type": "execute_result"
    },
    {
     "data": {
      "image/png": "[encoded data removed]",
      "text/plain": [
       "<Figure size 432x288 with 1 Axes>"
      ]
     },
     "metadata": {
      "needs_background": "light"
     },
     "output_type": "display_data"
    }
   ],
   "source": [
    "plt.scatter(fccq[0], fccq[1], s=10, label='fcc', color='#FFB300')\n",
    "plt.scatter(hcpq[0], hcpq[1], s=10, label='hcp', color='#388E3C')\n",
    "plt.scatter(bccq[0], bccq[1], s=10, label='bcc', color='#C62828')\n",
    "plt.xlabel(\"$q_4$\", fontsize=20)\n",
    "plt.ylabel(\"$q_6$\", fontsize=20)\n",
    "plt.legend(loc=4, fontsize=15)"
   ]
  },
  {
   "cell_type": "markdown",
   "metadata": {},
   "source": [
    "The thermal vibrations cause the distributions to spread, but it still very good. Lechner and Dellago proposed using the averaged distributions, $\\bar{q}_4-\\bar{q}_6$ to better distinguish the distributions. Lets try that. "
   ]
  },
  {
   "cell_type": "code",
   "execution_count": 13,
   "metadata": {
    "tags": []
   },
   "outputs": [],
   "source": [
    "bccaq = bcc.calculate.steinhardt_parameter([4,6], averaged=True)\n",
    "fccaq = fcc.calculate.steinhardt_parameter([4,6], averaged=True)\n",
    "hcpaq = hcp.calculate.steinhardt_parameter([4,6], averaged=True)"
   ]
  },
  {
   "cell_type": "markdown",
   "metadata": {},
   "source": [
    "Lets see if these distributions are better.."
   ]
  },
  {
   "cell_type": "code",
   "execution_count": 15,
   "metadata": {
    "tags": []
   },
   "outputs": [
    {
     "data": {
      "text/plain": [
       "<matplotlib.legend.Legend at 0x7f3a6be1a4d0>"
      ]
     },
     "execution_count": 15,
     "metadata": {},
     "output_type": "execute_result"
    },
    {
     "data": {
      "image/png": "[encoded data removed]",
      "text/plain": [
       "<Figure size 432x288 with 1 Axes>"
      ]
     },
     "metadata": {
      "needs_background": "light"
     },
     "output_type": "display_data"
    }
   ],
   "source": [
    "plt.scatter(fccaq[0], fccaq[1], s=10, label='fcc', color='#FFB300')\n",
    "plt.scatter(hcpaq[0], hcpaq[1], s=10, label='hcp', color='#388E3C')\n",
    "plt.scatter(bccaq[0], bccaq[1], s=10, label='bcc', color='#C62828')\n",
    "plt.xlabel(\"$q_4$\", fontsize=20)\n",
    "plt.ylabel(\"$q_6$\", fontsize=20)\n",
    "plt.legend(loc=4, fontsize=15)"
   ]
  },
  {
   "cell_type": "markdown",
   "metadata": {},
   "source": [
    "This looks much better! We can see that the resolution is much better than the non averaged versions."
   ]
  },
  {
   "cell_type": "markdown",
   "metadata": {},
   "source": [
    "There is also the possibility to calculate structures using Voronoi based neighbor identification too. Let's try that now."
   ]
  },
  {
   "cell_type": "code",
   "execution_count": 16,
   "metadata": {
    "tags": []
   },
   "outputs": [
    {
     "name": "stderr",
     "output_type": "stream",
     "text": [
      "/home/menon/miniconda3/envs/pyscal-test/lib/python3.10/site-packages/pyscal3/atoms.py:45: VisibleDeprecationWarning: Creating an ndarray from ragged nested sequences (which is a list-or-tuple of lists-or-tuples-or ndarrays with different lengths or shapes) is deprecated. If you meant to do this, you must specify 'dtype=object' when creating the ndarray.\n",
      "  dict.__setitem__(self, key, np.array(val))\n"
     ]
    }
   ],
   "source": [
    "bcc.find.neighbors(method='voronoi')\n",
    "fcc.find.neighbors(method='voronoi')\n",
    "hcp.find.neighbors(method='voronoi')"
   ]
  },
  {
   "cell_type": "code",
   "execution_count": 17,
   "metadata": {
    "tags": []
   },
   "outputs": [],
   "source": [
    "bccaq = bcc.calculate.steinhardt_parameter([4,6], averaged=True)\n",
    "fccaq = fcc.calculate.steinhardt_parameter([4,6], averaged=True)\n",
    "hcpaq = hcp.calculate.steinhardt_parameter([4,6], averaged=True)"
   ]
  },
  {
   "cell_type": "markdown",
   "metadata": {},
   "source": [
    "Plot the calculated points.."
   ]
  },
  {
   "cell_type": "code",
   "execution_count": 18,
   "metadata": {
    "tags": []
   },
   "outputs": [
    {
     "data": {
      "text/plain": [
       "<matplotlib.legend.Legend at 0x7f3a6c51f100>"
      ]
     },
     "execution_count": 18,
     "metadata": {},
     "output_type": "execute_result"
    },
    {
     "data": {
      "image/png": "[encoded data removed]",
      "text/plain": [
       "<Figure size 432x288 with 1 Axes>"
      ]
     },
     "metadata": {
      "needs_background": "light"
     },
     "output_type": "display_data"
    }
   ],
   "source": [
    "plt.scatter(fccaq[0], fccaq[1], s=10, label='fcc', color='#FFB300')\n",
    "plt.scatter(hcpaq[0], hcpaq[1], s=10, label='hcp', color='#388E3C')\n",
    "plt.scatter(bccaq[0], bccaq[1], s=10, label='bcc', color='#C62828')\n",
    "plt.xlabel(\"$q_4$\", fontsize=20)\n",
    "plt.ylabel(\"$q_6$\", fontsize=20)\n",
    "plt.legend(loc=4, fontsize=15)"
   ]
  }
 ],
 "metadata": {
  "kernelspec": {
   "display_name": "Python 3 (ipykernel)",
   "language": "python",
   "name": "python3"
  },
  "language_info": {
   "codemirror_mode": {
    "name": "ipython",
    "version": 3
   },
   "file_extension": ".py",
   "mimetype": "text/x-python",
   "name": "python",
   "nbconvert_exporter": "python",
   "pygments_lexer": "ipython3",
   "version": "3.12.1"
  }
 },
 "nbformat": 4,
 "nbformat_minor": 4
}
