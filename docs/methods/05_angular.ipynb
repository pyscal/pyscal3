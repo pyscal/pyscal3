{
 "cells": [
  {
   "cell_type": "markdown",
   "metadata": {},
   "source": [
    "# Angular parameters"
   ]
  },
  {
   "cell_type": "markdown",
   "metadata": {},
   "source": [
    "## Angular criteria for identification of diamond structure\n",
    "\n",
    "Angular parameter introduced by Uttormark et al {cite}`Uttormark1993` is used to measure\n",
    "the tetrahedrality of local atomic structure. An atom belonging to\n",
    "diamond structure has four nearest neighbors which gives rise to six\n",
    "three body angles around the atom. The angular parameter $A$ is then\n",
    "defined as,\n",
    "\n",
    "> $$ A = \\sum_{i=1}^6 (\\cos(\\theta_i)+\\frac{1}{3})^2$$\n",
    "\n",
    "An atom belonging to diamond structure would show the value of angular\n",
    "params close to 0. Angular parameter can be calculated in pyscal using\n",
    "the following method -\n",
    "\n",
    "``` python\n",
    "import pyscal.core as pc\n",
    "sys = pc.System()\n",
    "sys.read_inputfile('conf.dump')\n",
    "sys.find_neighbors(method='cutoff', cutoff='adaptive')\n",
    "sys.calculate_angularcriteria()\n",
    "```\n",
    "\n",
    "The calculated angular criteria value can be accessed for each atom\n",
    "using [Atom.angular](https://docs.pyscal.org/en/latest/pyscal.html#pyscal.catom.Atom.angular).\n",
    "\n",
    "## $\\chi$ parameters for structural identification\n",
    "\n",
    "$\\chi$ parameters introduced by Ackland and Jones {cite}`Ackland2006` measures all local\n",
    "angles created by an atom with its neighbors and creates a histogram of\n",
    "these angles to produce vector which can be used to identify structures.\n",
    "After finding the neighbors of an atom, $\\cos \\theta_{ijk}$ for atoms j\n",
    "and k which are neighbors of i is calculated for all combinations of i,\n",
    "j and k. The set of all calculated cosine values are then added to a\n",
    "histogram with the following bins - \\[-1.0, -0.945, -0.915, -0.755,\n",
    "-0.705, -0.195, 0.195, 0.245, 0.795, 1.0\\]. Compared to $\\chi$\n",
    "parameters from $\\chi_0$ to $\\chi_7$ in the associated publication, the\n",
    "vector calculated in pyscal contains values from $\\chi_0$ to $\\chi_8$\n",
    "which is due to an additional $\\chi$ parameter which measures the number\n",
    "of neighbors between cosines -0.705 to -0.195. The $\\chi$ vector is\n",
    "characteristic of the local atomic environment and can be used to\n",
    "identify crystal structures, details of which can be found in the\n",
    "publication[^2].\n",
    "\n",
    "$\\chi$ parameters can be calculated in pyscal using,\n",
    "\n",
    "``` python\n",
    "import pyscal.core as pc\n",
    "sys = pc.System()\n",
    "sys.read_inputfile('conf.dump')\n",
    "sys.find_neighbors(method='cutoff', cutoff='adaptive')\n",
    "sys.calculate_chiparams()\n",
    "```\n",
    "\n",
    "The calculated values for each atom can be accessed using\n",
    "[Atom.chiparams](https://docs.pyscal.org/en/latest/pyscal.html#pyscal.catom.Atom.chiparams).\n",
    "\n",
    "## References\n",
    "\n",
    "```{bibliography} ../references.bib\n",
    ":filter: docname in docnames\n",
    ":style: unsrt\n",
    "```"
   ]
  }
 ],
 "metadata": {
  "kernelspec": {
   "display_name": "py3",
   "language": "python",
   "name": "py3"
  },
  "language_info": {
   "codemirror_mode": {
    "name": "ipython",
    "version": 3
   },
   "file_extension": ".py",
   "mimetype": "text/x-python",
   "name": "python",
   "nbconvert_exporter": "python",
   "pygments_lexer": "ipython3",
   "version": "3.9.1"
  }
 },
 "nbformat": 4,
 "nbformat_minor": 4
}
