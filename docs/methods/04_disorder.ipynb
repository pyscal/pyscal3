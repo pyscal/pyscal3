{
 "cells": [
  {
   "cell_type": "markdown",
   "metadata": {},
   "source": [
    "# Disorder parameter"
   ]
  },
  {
   "cell_type": "markdown",
   "metadata": {},
   "source": [
    "Kawasaki and Onuki {cite}`Kawasaki2011` proposed a disorder variable based on\n",
    "Steinhardt\\'s order paramaters which can be used to distinguish between\n",
    "ordered and disordered structures\n",
    "\n",
    "The disorder variable for an atom is defined as,\n",
    "\n",
    "> $$D_j = \\frac{1}{n_b^j} \\sum_{k \\in neighbors } [S_{jj} + S_{kk} - 2S_{jk}]$$\n",
    "\n",
    "where S is given by,\n",
    "\n",
    "> $$S_{jk} = \\sum_{-l \\leq m \\leq l} q_{lm}^j (q_{lm}^k)^*$$\n",
    "\n",
    "l = 6 was used in the original publication as it is a good indicator of\n",
    "crystallinity. However, l = 4 can also be used for treating bcc\n",
    "structures. An averaged disorder parameter for each atom can also be\n",
    "calculated in pyscal,\n",
    "\n",
    "> $$\\bar{D}_j = \\frac{1}{n_b^j} \\sum_{k \\in neighbors } D_j$$\n",
    "\n",
    "In pyscal, disorder parameter can be calculated by the following\n",
    "code-block,\n",
    "\n",
    "``` python\n",
    "import pyscal.core as pc\n",
    "sys = pc.System()\n",
    "sys.read_inputfile('conf.dump')\n",
    "sys.find_neighbors(method='cutoff', cutoff=0)\n",
    "sys.calculate_q(6)\n",
    "sys.calculate_disorder(averaged=True, q=6)\n",
    "```\n",
    "\n",
    "The value of q can be replaced with whichever is required from 2-12. The\n",
    "calculated values can be accessed by, [Atom.disorder](https://docs.pyscal.org/en/latest/pyscal.html#pyscal.catom.Atom.disorder) and [Atom.avg_disorder](https://docs.pyscal.org/en/latest/pyscal.html#pyscal.catom.Atom.avg_disorder) attributes.\n",
    "\n",
    "## References\n",
    "\n",
    "```{bibliography} ../references.bib\n",
    ":filter: docname in docnames\n",
    ":style: unsrt\n",
    "```"
   ]
  }
 ],
 "metadata": {
  "kernelspec": {
   "display_name": "py3",
   "language": "python",
   "name": "py3"
  },
  "language_info": {
   "codemirror_mode": {
    "name": "ipython",
    "version": 3
   },
   "file_extension": ".py",
   "mimetype": "text/x-python",
   "name": "python",
   "nbconvert_exporter": "python",
   "pygments_lexer": "ipython3",
   "version": "3.9.1"
  }
 },
 "nbformat": 4,
 "nbformat_minor": 4
}
