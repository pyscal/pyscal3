{
 "cells": [
  {
   "cell_type": "markdown",
   "metadata": {},
   "source": [
    "# Centrosymmetry parameter"
   ]
  },
  {
   "cell_type": "markdown",
   "metadata": {},
   "source": [
    "Centrosymmetry parameter (CSP) was introduced by Kelchner et\n",
    "al. {cite}`Kelchner1998` to identify defects in crystals. The parameter measures the loss of local symmetry. For an atom with $N$ nearest neighbors, the parameter is given\n",
    "by,\n",
    "\n",
    "> $$\\mathrm{CSP} = \\sum_{i=1}^{N/2} \\big | \\textbf{r}_i + \\textbf{r}_{i+N/2} \\big |^2$$\n",
    "\n",
    "$\\textbf{r}_i$ and $\\textbf{r}_{i+N/2}$ are vectors from the central\n",
    "atom to two opposite pairs of neighbors. There are two main methods to\n",
    "identify the opposite pairs of neighbors as described in [this\n",
    "publication](https://arxiv.org/abs/2003.08879). The first of the\n",
    "approaches is called Greedy Edge\n",
    "Selection (GES) {cite}`Stukowski2012`\n",
    "and is implemented in [LAMMPS](https://lammps.sandia.gov/) and\n",
    "[Ovito](https://www.ovito.org/). GES algorithm calculates a weight\n",
    "$w_{ij} = |\\textbf{r}_i + \\textbf{r}_j|$ for all combinations of\n",
    "neighbors around an atom and calculates CSP over the smallest $N/2$\n",
    "weights.\n",
    "\n",
    "A centrosymmetry parameter calculation using GES algorithm can be\n",
    "carried out as follows-\n",
    "\n",
    "``` python\n",
    "import pyscal.core as pc\n",
    "sys = pc.System()\n",
    "sys.read_inputfile('conf.dump')\n",
    "sys.find_neighbors(method='voronoi')\n",
    "sys.calculate_centrosymmetry(nmax = 12)\n",
    "```\n",
    "\n",
    "`nmax` parameter specifies the number of nearest neighbors to be\n",
    "considered for the calculation of CSP. The second algorithm is called\n",
    "the Greedy Vertex\n",
    "Matching {cite}`Bulatov2006` and is\n",
    "implemented in [AtomEye](http://li.mit.edu/Archive/Graphics/A/) and\n",
    "[Atomsk](https://atomsk.univ-lille.fr/). This algorithm orders the\n",
    "neighbors atoms in order of increasing distance from the central atom.\n",
    "From this list, the closest neighbor is paired with its lowest weight\n",
    "partner and both atoms removed from the list. This process is continued\n",
    "until no more atoms are remaining in the list. CSP calculation using\n",
    "this algorithm can be carried out by,\n",
    "\n",
    "``` python\n",
    "import pyscal.core as pc\n",
    "sys = pc.System()\n",
    "sys.read_inputfile('conf.dump')\n",
    "sys.find_neighbors(method='voronoi')\n",
    "sys.calculate_centrosymmetry(nmax = 12, algorithm = \"gvm\")\n",
    "```\n",
    "\n",
    "## References\n",
    "\n",
    "```{bibliography} ../references.bib\n",
    ":filter: docname in docnames\n",
    ":style: unsrt\n",
    "```"
   ]
  }
 ],
 "metadata": {
  "kernelspec": {
   "display_name": "py3",
   "language": "python",
   "name": "py3"
  },
  "language_info": {
   "codemirror_mode": {
    "name": "ipython",
    "version": 3
   },
   "file_extension": ".py",
   "mimetype": "text/x-python",
   "name": "python",
   "nbconvert_exporter": "python",
   "pygments_lexer": "ipython3",
   "version": "3.9.1"
  }
 },
 "nbformat": 4,
 "nbformat_minor": 4
}
