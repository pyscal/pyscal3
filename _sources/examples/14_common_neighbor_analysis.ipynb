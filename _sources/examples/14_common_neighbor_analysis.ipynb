{
 "cells": [
  {
   "cell_type": "markdown",
   "id": "9bf6b3ec-9234-4c30-a98b-1f3c3a2780ab",
   "metadata": {},
   "source": [
    "# Common neighbor analysis"
   ]
  },
  {
   "cell_type": "markdown",
   "id": "16e3321d-b352-4486-8ab3-e9048f0d265b",
   "metadata": {},
   "source": [
    "pyscal can also perform common neighbor analysis. As usual we start by creating the structures."
   ]
  },
  {
   "cell_type": "code",
   "execution_count": 1,
   "id": "8182c146-f5a3-4172-a29b-b63a5f702b6c",
   "metadata": {
    "tags": []
   },
   "outputs": [],
   "source": [
    "from pyscal3 import System\n",
    "import matplotlib.pyplot as plt\n",
    "import numpy as np"
   ]
  },
  {
   "cell_type": "code",
   "execution_count": 2,
   "id": "d5347f32-97e8-4af4-9826-9d817c291805",
   "metadata": {
    "tags": []
   },
   "outputs": [],
   "source": [
    "fcc = System.create.lattice.fcc(lattice_constant=4, repetitions=[4,4,4])\n",
    "bcc = System.create.lattice.bcc(lattice_constant=4, repetitions=[4,4,4])\n",
    "hcp = System.create.lattice.hcp(lattice_constant=4, repetitions=[4,4,4])"
   ]
  },
  {
   "cell_type": "markdown",
   "id": "1b510473-25ae-4087-9873-df5989390794",
   "metadata": {},
   "source": [
    "There are two flavors of CNA possible. The first one is regular CNA."
   ]
  },
  {
   "cell_type": "code",
   "execution_count": 3,
   "id": "00d6d556-a3fb-466c-87a7-4989c351deba",
   "metadata": {
    "tags": []
   },
   "outputs": [
    {
     "data": {
      "text/plain": [
       "{'others': 0, 'fcc': 256, 'hcp': 0, 'bcc': 0, 'ico': 0}"
      ]
     },
     "execution_count": 3,
     "metadata": {},
     "output_type": "execute_result"
    }
   ],
   "source": [
    "fcc.analyze.common_neighbor_analysis(lattice_constant=4)"
   ]
  },
  {
   "cell_type": "markdown",
   "id": "0890a8e9-af35-4f5a-9828-e37f182af3a6",
   "metadata": {},
   "source": [
    "If the `lattice_constant` keyword is specified, it performs the standard common neighbor analysis. A more robust method is the adaptive common neighbor analysis. Adaptive CNA is performed automatically if the `lattice_constant` keyword is not specified. Let us take a look. "
   ]
  },
  {
   "cell_type": "code",
   "execution_count": 4,
   "id": "cf509ee9-1246-447a-846c-59a995be5b10",
   "metadata": {
    "tags": []
   },
   "outputs": [
    {
     "data": {
      "text/plain": [
       "{'others': 0, 'fcc': 256, 'hcp': 0, 'bcc': 0, 'ico': 0}"
      ]
     },
     "execution_count": 4,
     "metadata": {},
     "output_type": "execute_result"
    }
   ],
   "source": [
    "fcc.analyze.common_neighbor_analysis()"
   ]
  },
  {
   "cell_type": "markdown",
   "id": "0c69a617-0dc8-49ba-bb5c-f4a32e8320c7",
   "metadata": {},
   "source": [
    "Once again it is correctly identified."
   ]
  },
  {
   "cell_type": "markdown",
   "id": "9db6ee72-863f-4db9-9c8c-870bb38199ad",
   "metadata": {},
   "source": [
    "We can also check the other structures."
   ]
  },
  {
   "cell_type": "code",
   "execution_count": 5,
   "id": "41f5fe04-5a24-451d-80a1-73103688fc81",
   "metadata": {
    "tags": []
   },
   "outputs": [
    {
     "data": {
      "text/plain": [
       "{'others': 0, 'fcc': 0, 'hcp': 0, 'bcc': 128, 'ico': 0}"
      ]
     },
     "execution_count": 5,
     "metadata": {},
     "output_type": "execute_result"
    }
   ],
   "source": [
    "bcc.analyze.common_neighbor_analysis()"
   ]
  },
  {
   "cell_type": "code",
   "execution_count": 6,
   "id": "fa840e41-4743-423e-9b56-29f781f4c0f8",
   "metadata": {
    "tags": []
   },
   "outputs": [
    {
     "data": {
      "text/plain": [
       "{'others': 0, 'fcc': 0, 'hcp': 256, 'bcc': 0, 'ico': 0}"
      ]
     },
     "execution_count": 6,
     "metadata": {},
     "output_type": "execute_result"
    }
   ],
   "source": [
    "hcp.analyze.common_neighbor_analysis()"
   ]
  },
  {
   "cell_type": "markdown",
   "id": "2dfc8695-daa8-4816-a707-8cb8e3a0cd1e",
   "metadata": {},
   "source": [
    "An adaption of the CNA technique can also be used for diamond structure."
   ]
  },
  {
   "cell_type": "code",
   "execution_count": 7,
   "id": "4c2bf14e-9bb3-4a16-8a51-bd21c985cc21",
   "metadata": {
    "tags": []
   },
   "outputs": [],
   "source": [
    "dia = System.create.lattice.diamond(lattice_constant=4, repetitions=[4,4,4])"
   ]
  },
  {
   "cell_type": "code",
   "execution_count": 8,
   "id": "2cee0b9a-8171-41a0-bf06-f979ea8807de",
   "metadata": {
    "tags": []
   },
   "outputs": [
    {
     "data": {
      "text/plain": [
       "{'others': 0,\n",
       " 'cubic diamond': 512,\n",
       " 'cubic diamond 1NN': 0,\n",
       " 'cubic diamond 2NN': 0,\n",
       " 'hex diamond': 0,\n",
       " 'hex diamond 1NN': 0,\n",
       " 'hex diamond 2NN': 0}"
      ]
     },
     "execution_count": 8,
     "metadata": {},
     "output_type": "execute_result"
    }
   ],
   "source": [
    "dia.analyze.diamond_structure()"
   ]
  },
  {
   "cell_type": "markdown",
   "id": "0e1005a5-ae9c-4c1c-9b02-6bd32dfc1efe",
   "metadata": {},
   "source": []
  }
 ],
 "metadata": {
  "kernelspec": {
   "display_name": "Python 3 (ipykernel)",
   "language": "python",
   "name": "python3"
  },
  "language_info": {
   "codemirror_mode": {
    "name": "ipython",
    "version": 3
   },
   "file_extension": ".py",
   "mimetype": "text/x-python",
   "name": "python",
   "nbconvert_exporter": "python",
   "pygments_lexer": "ipython3",
   "version": "3.11.5"
  }
 },
 "nbformat": 4,
 "nbformat_minor": 5
}
