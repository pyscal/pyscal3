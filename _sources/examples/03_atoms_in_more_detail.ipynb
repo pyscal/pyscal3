{
 "cells": [
  {
   "cell_type": "markdown",
   "id": "73272260-6ae1-450a-8a95-47cf3b1e7bbf",
   "metadata": {},
   "source": [
    "# Selecting and deleting `Atoms`"
   ]
  },
  {
   "cell_type": "markdown",
   "id": "6f29d781-5018-4bf8-8fd3-9e965185d7d5",
   "metadata": {},
   "source": [
    "Coming soon... Meanwhile check out:"
   ]
  },
  {
   "cell_type": "code",
   "execution_count": 1,
   "id": "69f6c863-f601-4a77-8d8e-05fe972e6d4b",
   "metadata": {
    "tags": []
   },
   "outputs": [],
   "source": [
    "from pyscal3 import System"
   ]
  },
  {
   "cell_type": "markdown",
   "id": "d8df4be9-4bf3-408a-9c28-a0a06e31b66e",
   "metadata": {},
   "source": [
    "`system.apply_selection`, `system.remove_selection`"
   ]
  }
 ],
 "metadata": {
  "kernelspec": {
   "display_name": "Python 3 (ipykernel)",
   "language": "python",
   "name": "python3"
  },
  "language_info": {
   "codemirror_mode": {
    "name": "ipython",
    "version": 3
   },
   "file_extension": ".py",
   "mimetype": "text/x-python",
   "name": "python",
   "nbconvert_exporter": "python",
   "pygments_lexer": "ipython3",
   "version": "3.10.6"
  }
 },
 "nbformat": 4,
 "nbformat_minor": 5
}
